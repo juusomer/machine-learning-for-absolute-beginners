{
 "cells": [
  {
   "cell_type": "markdown",
   "metadata": {},
   "source": [
    "# 4. Summary"
   ]
  },
  {
   "cell_type": "markdown",
   "metadata": {},
   "source": [
    "- Machine learning: using mathematical algorithms or statistical models in computer systems rather than explicit instructions\n",
    "- Data as vectors\n",
    "    - Feature engineering, feature learning\n",
    "- Supervised learning: \n",
    "    - Classification: identifying which category a sample belongs to based on training set\n",
    "    - SVM: classification by maximizing the margin between the classes\n",
    "- Unsupervised learning:\n",
    "    - Clustering: trying to find clusters where the samples are similar in some way\n",
    "    - Anomaly detection: trying to find data that is different from other data"
   ]
  },
  {
   "cell_type": "markdown",
   "metadata": {},
   "source": [
    "### What Wasn't Discussed\n",
    "* Tools:\n",
    "    - Interactive Python environment (this thing I've been using) [Jupyter](https://jupyter.org/)\n",
    "    - Vectors and matrices: [numpy](https://numpy.org/)\n",
    "    - Higher-level dataframe API: [pandas](https://pandas.pydata.org/)\n",
    "    - Algorithms: [scipy](https://www.scipy.org/), [scikit-learn](https://scikit-learn.org/stable/), [keras](https://keras.io/), ...\n",
    "    - Visualization: [matplotlib](https://matplotlib.org/), [seaborn](https://seaborn.pydata.org/), ...\n",
    "* Practical issues:\n",
    "    - Data issues (lack of data, missing features, imbalanced classes)\n",
    "    - Overfitting / underfitting\n",
    "    - Model selection and evaluation\n",
    "* Neural networks"
   ]
  }
 ],
 "metadata": {
  "kernelspec": {
   "display_name": "Python 3",
   "language": "python",
   "name": "python3"
  },
  "language_info": {
   "codemirror_mode": {
    "name": "ipython",
    "version": 3
   },
   "file_extension": ".py",
   "mimetype": "text/x-python",
   "name": "python",
   "nbconvert_exporter": "python",
   "pygments_lexer": "ipython3",
   "version": "3.8.0"
  }
 },
 "nbformat": 4,
 "nbformat_minor": 4
}
