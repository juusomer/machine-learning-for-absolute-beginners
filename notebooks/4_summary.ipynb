{
 "cells": [
  {
   "cell_type": "markdown",
   "metadata": {
    "slideshow": {
     "slide_type": "slide"
    }
   },
   "source": [
    "# 4. Summary"
   ]
  },
  {
   "cell_type": "markdown",
   "metadata": {
    "slideshow": {
     "slide_type": "slide"
    }
   },
   "source": [
    "### What Wasn't Discussed\n",
    "* Tools:\n",
    "    - Interactive Python environment (this thing I've been using) [Jupyter](https://jupyter.org/)\n",
    "    - Vectors and matrices: [numpy](https://numpy.org/)\n",
    "    - Higher-level dataframe API: [pandas](https://pandas.pydata.org/)\n",
    "    - Algorithms: [scipy](https://www.scipy.org/), [scikit-learn](https://scikit-learn.org/stable/), [keras](https://keras.io/), ...\n",
    "    - Visualization: [matplotlib](https://matplotlib.org/), [seaborn](https://seaborn.pydata.org/), ...\n",
    "* Practical issues:\n",
    "    - Data issues (lack of data, missing features, imbalanced classes)\n",
    "    - Overfitting / underfitting\n",
    "    - Model selection and evaluation\n",
    "* Neural networks\n",
    "* Running ML algorithms in production\n",
    "* ...and a lot of other issues"
   ]
  },
  {
   "cell_type": "markdown",
   "metadata": {
    "slideshow": {
     "slide_type": "slide"
    }
   },
   "source": [
    "### Summary\n",
    "- Data as vectors\n",
    "    - Feature engineering, feature learning\n",
    "- Supervised learning: \n",
    "    - Classification: identifying which category a sample belongs to based on training set\n",
    "    - SVM: classification by maximizing the margin between the classes\n",
    "- Unsupervised learning:\n",
    "    - Clustering: finding groups of data so that the samples within a cluster are more similar to each other than to the samples in other clusters\n",
    "    - Anomaly detection: finding data that is different from the majority of data\n",
    "- Machine learning: using data-driven mathematical algorithms or statistical models in computer systems instead of explicit rules"
   ]
  }
 ],
 "metadata": {
  "celltoolbar": "Slideshow",
  "kernelspec": {
   "display_name": "Python 3",
   "language": "python",
   "name": "python3"
  },
  "language_info": {
   "codemirror_mode": {
    "name": "ipython",
    "version": 3
   },
   "file_extension": ".py",
   "mimetype": "text/x-python",
   "name": "python",
   "nbconvert_exporter": "python",
   "pygments_lexer": "ipython3",
   "version": "3.8.0"
  }
 },
 "nbformat": 4,
 "nbformat_minor": 4
}
