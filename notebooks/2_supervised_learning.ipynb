{
 "cells": [
  {
   "cell_type": "markdown",
   "metadata": {},
   "source": [
    "- Definitions: parameters, fitting, learning, ???\n",
    "- 2D SVM on whiteboard, formulate the loss function\n",
    "- Minimization / gradient descent, explanation on whiteboard\n",
    "- Code example with the same SVM, plot the cost function, show how the optimization works (step by step?).\n",
    "  Use the same dataset as previously. Record a new sound live and classify?\n",
    "- Non-linear SVM (kernel functions) and slack variables.\n",
    "- Other kinds of models, neural networks quickly mentioned\n",
    "- Different kinds of loss functions:\n",
    "    - Probabilistic models, log-likelihood\n",
    "    - ..."
   ]
  }
 ],
 "metadata": {
  "kernelspec": {
   "display_name": "Python 3",
   "language": "python",
   "name": "python3"
  },
  "language_info": {
   "codemirror_mode": {
    "name": "ipython",
    "version": 3
   },
   "file_extension": ".py",
   "mimetype": "text/x-python",
   "name": "python",
   "nbconvert_exporter": "python",
   "pygments_lexer": "ipython3",
   "version": "3.6.4"
  }
 },
 "nbformat": 4,
 "nbformat_minor": 2
}
