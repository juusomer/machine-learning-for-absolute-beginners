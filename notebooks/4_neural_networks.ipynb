{
 "cells": [
  {
   "cell_type": "markdown",
   "metadata": {},
   "source": [
    "- Neural Networks (because this is what everybody is interested in)\n",
    "- Definitions, components\n",
    "- The previous SVM formulated as a neural network\n",
    "- \"Deep learning\" - what is it, why does it work, what to consider.\n",
    "- Cost (loss) functions, gradient descent, tie to previous example\n",
    "- Backpropagation\n",
    "- Real world examples and explanations with intuitive explanations, not too much details"
   ]
  }
 ],
 "metadata": {
  "kernelspec": {
   "display_name": "Python 3",
   "language": "python",
   "name": "python3"
  },
  "language_info": {
   "codemirror_mode": {
    "name": "ipython",
    "version": 3
   },
   "file_extension": ".py",
   "mimetype": "text/x-python",
   "name": "python",
   "nbconvert_exporter": "python",
   "pygments_lexer": "ipython3",
   "version": "3.6.4"
  }
 },
 "nbformat": 4,
 "nbformat_minor": 2
}
