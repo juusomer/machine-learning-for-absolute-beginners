{
 "cells": [
  {
   "cell_type": "markdown",
   "metadata": {},
   "source": [
    "# 5. Summary and Learning Material"
   ]
  },
  {
   "cell_type": "markdown",
   "metadata": {},
   "source": [
    "### Tools (Python)\n",
    "\n",
    "- This thing I'm using for the presentation: [Jupyter](https://jupyter.org/)\n",
    "- Vectors and matrices: [numpy](https://numpy.org/)\n",
    "- Higher-level dataframe API: [pandas](https://pandas.pydata.org/)\n",
    "- Algorithms: [scipy](https://www.scipy.org/), [scikit-learn](https://scikit-learn.org/stable/), [keras](https://keras.io/), ...\n",
    "- Visualization: [matplotlib](https://matplotlib.org/), [seaborn](https://seaborn.pydata.org/), ..."
   ]
  },
  {
   "cell_type": "markdown",
   "metadata": {},
   "source": [
    "### Learning Material\n",
    "- asd"
   ]
  },
  {
   "cell_type": "markdown",
   "metadata": {},
   "source": [
    "### Summary\n",
    "- Data as vectors\n",
    "    - Feature engineering, feature learning\n",
    "- Supervised learning: \n",
    "    - Classification: putting new samples into classes known for training data\n",
    "    - SVM: Learning through maximizing the margin between classes (cost/loss function, gradient descent)\n",
    "- Unsupervised learning:\n",
    "    - Clustering: trying to find clusters where the samples are similar in some way\n",
    "    - Anomaly detection: trying to find data that is different from other data"
   ]
  }
 ],
 "metadata": {
  "kernelspec": {
   "display_name": "Python 3",
   "language": "python",
   "name": "python3"
  },
  "language_info": {
   "codemirror_mode": {
    "name": "ipython",
    "version": 3
   },
   "file_extension": ".py",
   "mimetype": "text/x-python",
   "name": "python",
   "nbconvert_exporter": "python",
   "pygments_lexer": "ipython3",
   "version": "3.6.4"
  }
 },
 "nbformat": 4,
 "nbformat_minor": 2
}
