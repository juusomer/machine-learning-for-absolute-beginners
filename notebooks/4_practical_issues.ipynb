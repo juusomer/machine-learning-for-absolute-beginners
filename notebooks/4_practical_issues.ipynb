{
 "cells": [
  {
   "cell_type": "markdown",
   "metadata": {},
   "source": [
    "# 4. Practical Issues"
   ]
  },
  {
   "cell_type": "markdown",
   "metadata": {},
   "source": [
    "- Overfitting: fitting the model too closely to training data, failing to generalize\n",
    "\n",
    "TODO kuva\n",
    "\n",
    "- Underfitting: failing to capture important features of the data with the model\n",
    "\n",
    "TODO kuva\n",
    "\n",
    "$\\rightarrow$ validation & testing"
   ]
  },
  {
   "cell_type": "markdown",
   "metadata": {},
   "source": [
    "- model evaluation: precision/recall, medical example (true positives, false positives, ethical considerations)? confusion matrix\n",
    "- lack of data, missing values, uneven data"
   ]
  }
 ],
 "metadata": {
  "kernelspec": {
   "display_name": "Python 3",
   "language": "python",
   "name": "python3"
  },
  "language_info": {
   "codemirror_mode": {
    "name": "ipython",
    "version": 3
   },
   "file_extension": ".py",
   "mimetype": "text/x-python",
   "name": "python",
   "nbconvert_exporter": "python",
   "pygments_lexer": "ipython3",
   "version": "3.6.4"
  }
 },
 "nbformat": 4,
 "nbformat_minor": 2
}
