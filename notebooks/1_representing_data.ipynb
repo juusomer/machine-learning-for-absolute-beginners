{
 "cells": [
  {
   "cell_type": "markdown",
   "metadata": {},
   "source": [
    "- \"Data as Vectors\"\n",
    "- Definitions and basics - data matrices, sample vectors, features\n",
    "- Visualization, k-NN example, k-means example.\n",
    "- Feature extraction\n",
    "    - What this is, how it's done\n",
    "    - Feature learning? As part of neural networks?\n",
    "    - Programmatic example, sound data + Fourier transformation.\n",
    "      Play sounds, show plots. Visualize the whole dataset in 2D."
   ]
  },
  {
   "cell_type": "markdown",
   "metadata": {},
   "source": [
    "# Representing Data"
   ]
  },
  {
   "cell_type": "markdown",
   "metadata": {},
   "source": [
    "## Data as Vectors"
   ]
  },
  {
   "cell_type": "markdown",
   "metadata": {},
   "source": [
    "## Feature Extraction"
   ]
  }
 ],
 "metadata": {
  "kernelspec": {
   "display_name": "Python 3",
   "language": "python",
   "name": "python3"
  },
  "language_info": {
   "codemirror_mode": {
    "name": "ipython",
    "version": 3
   },
   "file_extension": ".py",
   "mimetype": "text/x-python",
   "name": "python",
   "nbconvert_exporter": "python",
   "pygments_lexer": "ipython3",
   "version": "3.6.4"
  }
 },
 "nbformat": 4,
 "nbformat_minor": 2
}
